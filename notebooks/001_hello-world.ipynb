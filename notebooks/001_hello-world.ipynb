{
 "cells": [
  {
   "cell_type": "markdown",
   "metadata": {},
   "source": [
    "# Hello World\n",
    "\n",
    "The classical introductory exercise. Just say \"Hello, World!\".\n",
    "\n",
    "[\"Hello, World!\"](http://en.wikipedia.org/wiki/%22Hello,_world!%22_program) is\n",
    "the traditional first program for beginning programming in a new language\n",
    "or environment.\n",
    "\n",
    "The objectives are simple:\n",
    "\n",
    "- Write a function that returns the string \"Hello, World!\".\n",
    "- Run the test suite and make sure that it succeeds.\n",
    "- Submit your solution and check it at the website.\n",
    "\n",
    "If everything goes well, you will be ready to fetch your first real exercise.\n",
    "\n",
    "## Exception messages\n",
    "\n",
    "Sometimes it is necessary to raise an exception. When you do this, you should include a meaningful error message to\n",
    "indicate what the source of the error is. This makes your code more readable and helps significantly with debugging. Not\n",
    "every exercise will require you to raise an exception, but for those that do, the tests will only pass if you include\n",
    "a message.\n",
    "\n",
    "To raise a message with an exception, just write it as an argument to the exception type. For example, instead of\n",
    "`raise Exception`, you shold write:\n",
    "\n",
    "```python\n",
    "raise Exception(\"Meaningful message indicating the source of the error\")\n",
    "```\n",
    "\n",
    "\n",
    "## Submitting Exercises\n",
    "\n",
    "Note that, when trying to submit an exercise, make sure the solution is in the `exercism/python/<exerciseName>` directory.\n",
    "\n",
    "For example, if you're submitting `bob.py` for the Bob exercise, the submit command would be something like `exercism submit <path_to_exercism_dir>/python/bob/bob.py`.\n",
    "\n",
    "For more detailed information about running tests, code style and linting,\n",
    "please see the [help page](http://exercism.io/languages/python).\n",
    "\n",
    "## Source\n",
    "\n",
    "This is an exercise to introduce users to using Exercism [http://en.wikipedia.org/wiki/%22Hello,_world!%22_program](http://en.wikipedia.org/wiki/%22Hello,_world!%22_program)\n",
    "\n",
    "## Submitting Incomplete Solutions\n",
    "It's possible to submit an incomplete solution so you can see how others have completed the exercise.\n"
   ]
  },
  {
   "cell_type": "code",
   "execution_count": null,
   "metadata": {},
   "outputs": [],
   "source": [
    "def hello(name=''):\n",
    "    return \"Hello, World!\"\n"
   ]
  },
  {
   "cell_type": "code",
   "execution_count": null,
   "metadata": {},
   "outputs": [],
   "source": [
    "import unittest\n",
    "\n",
    "\n",
    "\n",
    "# Tests adapted from `problem-specifications//canonical-data.json` @ v1.0.0\n",
    "\n",
    "class HelloWorldTests(unittest.TestCase):\n",
    "    def test_hello(self):\n",
    "        self.assertEqual(hello(), 'Hello, World!')\n",
    "\n",
    "\n",
    "unittest.main(argv=[''], exit=False)\n"
   ]
  }
 ],
 "metadata": {},
 "nbformat": 4,
 "nbformat_minor": 2
}
